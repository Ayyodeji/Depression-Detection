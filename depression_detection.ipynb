{
  "cells": [
    {
      "cell_type": "markdown",
      "metadata": {
        "id": "YgGX0F5454K2"
      },
      "source": [
        "### **DEPRESSION DETECTION FROM REDDIT DATA USING RANDOM, ANN, KNN AND LSTM**"
      ],
      "id": "YgGX0F5454K2"
    },
    {
      "cell_type": "code",
      "execution_count": 2,
      "metadata": {
        "colab": {
          "base_uri": "https://localhost:8080/"
        },
        "id": "QFUz8TOrUW0G",
        "outputId": "b1550e10-35a6-4a8c-84c2-66434f25433a"
      },
      "outputs": [
        {
          "output_type": "stream",
          "name": "stdout",
          "text": [
            "Mounted at /content/drive\n"
          ]
        }
      ],
      "source": [
        "from google.colab import drive\n",
        "drive.mount('/content/drive', force_remount=True)"
      ],
      "id": "QFUz8TOrUW0G"
    },
    {
      "cell_type": "code",
      "execution_count": 3,
      "metadata": {
        "colab": {
          "base_uri": "https://localhost:8080/"
        },
        "id": "xNhr2tKdhMPV",
        "outputId": "c35ca26a-591e-4f65-9195-3bf445e4d392"
      },
      "outputs": [
        {
          "output_type": "stream",
          "name": "stdout",
          "text": [
            "Looking in indexes: https://pypi.org/simple, https://us-python.pkg.dev/colab-wheels/public/simple/\n",
            "Collecting neattext\n",
            "  Downloading neattext-0.1.3-py3-none-any.whl (114 kB)\n",
            "\u001b[K     |████████████████████████████████| 114 kB 4.3 MB/s \n",
            "\u001b[?25hInstalling collected packages: neattext\n",
            "Successfully installed neattext-0.1.3\n"
          ]
        }
      ],
      "source": [
        "!pip install neattext"
      ],
      "id": "xNhr2tKdhMPV"
    },
    {
      "cell_type": "code",
      "execution_count": 4,
      "metadata": {
        "id": "81584048"
      },
      "outputs": [],
      "source": [
        "from wordcloud import WordCloud\n",
        "import numpy as np \n",
        "import pandas as pd\n",
        "from sklearn.model_selection import train_test_split\n",
        "import neattext.functions as nfx\n",
        "import matplotlib.pyplot as plt\n",
        "import plotly.express as plx\n",
        "from sklearn.metrics import classification_report\n",
        "import keras\n",
        "from keras.layers import Embedding,Dense,LSTM,Bidirectional,GlobalMaxPooling1D,Input,Dropout\n",
        "from keras.callbacks import EarlyStopping,ReduceLROnPlateau\n",
        "from tensorflow.keras.models import Sequential\n",
        "import tensorflow as tf\n",
        "from sklearn.preprocessing import LabelEncoder\n",
        "from keras.preprocessing.text import Tokenizer\n",
        "from keras.preprocessing.sequence import pad_sequences\n",
        "from tqdm import tqdm\n",
        "import seaborn as sns\n",
        "import pickle\n",
        "import warnings\n",
        "warnings.filterwarnings('ignore')"
      ],
      "id": "81584048"
    },
    {
      "cell_type": "code",
      "execution_count": 5,
      "metadata": {
        "id": "_7v2Q8hwwZp5"
      },
      "outputs": [],
      "source": [
        "from keras_preprocessing.sequence import pad_sequences"
      ],
      "id": "_7v2Q8hwwZp5"
    },
    {
      "cell_type": "code",
      "execution_count": 6,
      "metadata": {
        "colab": {
          "base_uri": "https://localhost:8080/"
        },
        "id": "w6nqz8Wnvj7S",
        "outputId": "6fe320f5-9e5a-406e-ee9c-7e9e6f22a6c6"
      },
      "outputs": [
        {
          "output_type": "stream",
          "name": "stdout",
          "text": [
            "CPU times: user 8.7 s, sys: 5.31 s, total: 14 s\n",
            "Wall time: 54.4 s\n"
          ]
        }
      ],
      "source": [
        "%%time\n",
        "\n",
        "glove_embeddings = np.load('/content/drive/My Drive/TOBIJOSEPH/Tobi/glove.840B.300d.pkl', allow_pickle=True)"
      ],
      "id": "w6nqz8Wnvj7S"
    },
    {
      "cell_type": "markdown",
      "metadata": {
        "id": "HHw6x8UiIt4y"
      },
      "source": [
        "# DATA PREPROCESSING"
      ],
      "id": "HHw6x8UiIt4y"
    },
    {
      "cell_type": "code",
      "execution_count": 7,
      "metadata": {
        "colab": {
          "base_uri": "https://localhost:8080/"
        },
        "id": "4a162fb7",
        "outputId": "17057761-9d44-41a8-dc01-73ead00d06a6"
      },
      "outputs": [
        {
          "output_type": "execute_result",
          "data": {
            "text/plain": [
              "   Unnamed: 0                                               text        class\n",
              "0           2  Ex Wife Threatening SuicideRecently I left my ...      suicide\n",
              "1           3  Am I weird I don't get affected by compliments...  non-suicide\n",
              "2           4  Finally 2020 is almost over... So I can never ...  non-suicide\n",
              "3           8          i need helpjust help me im crying so hard      suicide\n",
              "4           9  I’m so lostHello, my name is Adam (16) and I’v...      suicide"
            ],
            "text/html": [
              "\n",
              "  <div id=\"df-88144807-bfc0-4f42-aa50-cf4b56b22994\">\n",
              "    <div class=\"colab-df-container\">\n",
              "      <div>\n",
              "<style scoped>\n",
              "    .dataframe tbody tr th:only-of-type {\n",
              "        vertical-align: middle;\n",
              "    }\n",
              "\n",
              "    .dataframe tbody tr th {\n",
              "        vertical-align: top;\n",
              "    }\n",
              "\n",
              "    .dataframe thead th {\n",
              "        text-align: right;\n",
              "    }\n",
              "</style>\n",
              "<table border=\"1\" class=\"dataframe\">\n",
              "  <thead>\n",
              "    <tr style=\"text-align: right;\">\n",
              "      <th></th>\n",
              "      <th>Unnamed: 0</th>\n",
              "      <th>text</th>\n",
              "      <th>class</th>\n",
              "    </tr>\n",
              "  </thead>\n",
              "  <tbody>\n",
              "    <tr>\n",
              "      <th>0</th>\n",
              "      <td>2</td>\n",
              "      <td>Ex Wife Threatening SuicideRecently I left my ...</td>\n",
              "      <td>suicide</td>\n",
              "    </tr>\n",
              "    <tr>\n",
              "      <th>1</th>\n",
              "      <td>3</td>\n",
              "      <td>Am I weird I don't get affected by compliments...</td>\n",
              "      <td>non-suicide</td>\n",
              "    </tr>\n",
              "    <tr>\n",
              "      <th>2</th>\n",
              "      <td>4</td>\n",
              "      <td>Finally 2020 is almost over... So I can never ...</td>\n",
              "      <td>non-suicide</td>\n",
              "    </tr>\n",
              "    <tr>\n",
              "      <th>3</th>\n",
              "      <td>8</td>\n",
              "      <td>i need helpjust help me im crying so hard</td>\n",
              "      <td>suicide</td>\n",
              "    </tr>\n",
              "    <tr>\n",
              "      <th>4</th>\n",
              "      <td>9</td>\n",
              "      <td>I’m so lostHello, my name is Adam (16) and I’v...</td>\n",
              "      <td>suicide</td>\n",
              "    </tr>\n",
              "  </tbody>\n",
              "</table>\n",
              "</div>\n",
              "      <button class=\"colab-df-convert\" onclick=\"convertToInteractive('df-88144807-bfc0-4f42-aa50-cf4b56b22994')\"\n",
              "              title=\"Convert this dataframe to an interactive table.\"\n",
              "              style=\"display:none;\">\n",
              "        \n",
              "  <svg xmlns=\"http://www.w3.org/2000/svg\" height=\"24px\"viewBox=\"0 0 24 24\"\n",
              "       width=\"24px\">\n",
              "    <path d=\"M0 0h24v24H0V0z\" fill=\"none\"/>\n",
              "    <path d=\"M18.56 5.44l.94 2.06.94-2.06 2.06-.94-2.06-.94-.94-2.06-.94 2.06-2.06.94zm-11 1L8.5 8.5l.94-2.06 2.06-.94-2.06-.94L8.5 2.5l-.94 2.06-2.06.94zm10 10l.94 2.06.94-2.06 2.06-.94-2.06-.94-.94-2.06-.94 2.06-2.06.94z\"/><path d=\"M17.41 7.96l-1.37-1.37c-.4-.4-.92-.59-1.43-.59-.52 0-1.04.2-1.43.59L10.3 9.45l-7.72 7.72c-.78.78-.78 2.05 0 2.83L4 21.41c.39.39.9.59 1.41.59.51 0 1.02-.2 1.41-.59l7.78-7.78 2.81-2.81c.8-.78.8-2.07 0-2.86zM5.41 20L4 18.59l7.72-7.72 1.47 1.35L5.41 20z\"/>\n",
              "  </svg>\n",
              "      </button>\n",
              "      \n",
              "  <style>\n",
              "    .colab-df-container {\n",
              "      display:flex;\n",
              "      flex-wrap:wrap;\n",
              "      gap: 12px;\n",
              "    }\n",
              "\n",
              "    .colab-df-convert {\n",
              "      background-color: #E8F0FE;\n",
              "      border: none;\n",
              "      border-radius: 50%;\n",
              "      cursor: pointer;\n",
              "      display: none;\n",
              "      fill: #1967D2;\n",
              "      height: 32px;\n",
              "      padding: 0 0 0 0;\n",
              "      width: 32px;\n",
              "    }\n",
              "\n",
              "    .colab-df-convert:hover {\n",
              "      background-color: #E2EBFA;\n",
              "      box-shadow: 0px 1px 2px rgba(60, 64, 67, 0.3), 0px 1px 3px 1px rgba(60, 64, 67, 0.15);\n",
              "      fill: #174EA6;\n",
              "    }\n",
              "\n",
              "    [theme=dark] .colab-df-convert {\n",
              "      background-color: #3B4455;\n",
              "      fill: #D2E3FC;\n",
              "    }\n",
              "\n",
              "    [theme=dark] .colab-df-convert:hover {\n",
              "      background-color: #434B5C;\n",
              "      box-shadow: 0px 1px 3px 1px rgba(0, 0, 0, 0.15);\n",
              "      filter: drop-shadow(0px 1px 2px rgba(0, 0, 0, 0.3));\n",
              "      fill: #FFFFFF;\n",
              "    }\n",
              "  </style>\n",
              "\n",
              "      <script>\n",
              "        const buttonEl =\n",
              "          document.querySelector('#df-88144807-bfc0-4f42-aa50-cf4b56b22994 button.colab-df-convert');\n",
              "        buttonEl.style.display =\n",
              "          google.colab.kernel.accessAllowed ? 'block' : 'none';\n",
              "\n",
              "        async function convertToInteractive(key) {\n",
              "          const element = document.querySelector('#df-88144807-bfc0-4f42-aa50-cf4b56b22994');\n",
              "          const dataTable =\n",
              "            await google.colab.kernel.invokeFunction('convertToInteractive',\n",
              "                                                     [key], {});\n",
              "          if (!dataTable) return;\n",
              "\n",
              "          const docLinkHtml = 'Like what you see? Visit the ' +\n",
              "            '<a target=\"_blank\" href=https://colab.research.google.com/notebooks/data_table.ipynb>data table notebook</a>'\n",
              "            + ' to learn more about interactive tables.';\n",
              "          element.innerHTML = '';\n",
              "          dataTable['output_type'] = 'display_data';\n",
              "          await google.colab.output.renderOutput(dataTable, element);\n",
              "          const docLink = document.createElement('div');\n",
              "          docLink.innerHTML = docLinkHtml;\n",
              "          element.appendChild(docLink);\n",
              "        }\n",
              "      </script>\n",
              "    </div>\n",
              "  </div>\n",
              "  "
            ]
          },
          "metadata": {},
          "execution_count": 7
        }
      ],
      "source": [
        "data=pd.read_csv('/content/drive/MyDrive/TOBIJOSEPH/Suicide_Detection.csv')\n",
        "data.head()"
      ],
      "id": "4a162fb7"
    },
    {
      "cell_type": "code",
      "execution_count": 8,
      "metadata": {
        "colab": {
          "base_uri": "https://localhost:8080/"
        },
        "id": "b85ce594",
        "outputId": "3ec49ab8-fee7-493d-f6b1-a245f2b01d4c"
      },
      "outputs": [
        {
          "output_type": "execute_result",
          "data": {
            "text/plain": [
              "suicide        116037\n",
              "non-suicide    116037\n",
              "Name: class, dtype: int64"
            ]
          },
          "metadata": {},
          "execution_count": 8
        }
      ],
      "source": [
        "data['class'].value_counts()"
      ],
      "id": "b85ce594"
    },
    {
      "cell_type": "code",
      "execution_count": 9,
      "metadata": {
        "colab": {
          "base_uri": "https://localhost:8080/"
        },
        "id": "cb52f050",
        "outputId": "dad30cd7-da4e-4441-fc6d-a22f141429ad"
      },
      "outputs": [
        {
          "output_type": "execute_result",
          "data": {
            "text/plain": [
              "array(['suicide', 'non-suicide'], dtype=object)"
            ]
          },
          "metadata": {},
          "execution_count": 9
        }
      ],
      "source": [
        "data['class'].value_counts().index.values"
      ],
      "id": "cb52f050"
    },
    {
      "cell_type": "markdown",
      "metadata": {
        "id": "kiI-NUH_IxgR"
      },
      "source": [
        "# SPLIT DATA FOR TRAINING & TESTING"
      ],
      "id": "kiI-NUH_IxgR"
    },
    {
      "cell_type": "code",
      "execution_count": 10,
      "metadata": {
        "id": "1523d513"
      },
      "outputs": [],
      "source": [
        "train_data,test_data=train_test_split(data,test_size=0.2,random_state=10)"
      ],
      "id": "1523d513"
    },
    {
      "cell_type": "code",
      "execution_count": 11,
      "metadata": {
        "colab": {
          "base_uri": "https://localhost:8080/"
        },
        "id": "5ec44fe5",
        "outputId": "59bc5739-a2b7-4487-afb9-ae4181c7f448"
      },
      "outputs": [
        {
          "output_type": "execute_result",
          "data": {
            "text/plain": [
              "array(['suicide', 'non-suicide'], dtype=object)"
            ]
          },
          "metadata": {},
          "execution_count": 11
        }
      ],
      "source": [
        "train_data['class'].value_counts().index.values"
      ],
      "id": "5ec44fe5"
    },
    {
      "cell_type": "code",
      "execution_count": 12,
      "metadata": {
        "id": "737e3517"
      },
      "outputs": [],
      "source": [
        "def clean_text(text):\n",
        "    text_length=[]\n",
        "    cleaned_text=[]\n",
        "    for sent in tqdm(text):\n",
        "        sent=sent.lower()\n",
        "        sent=nfx.remove_special_characters(sent)\n",
        "        sent=nfx.remove_stopwords(sent)\n",
        "#         sent=nfx.remove_shortwords(sent)\n",
        "        text_length.append(len(sent.split()))\n",
        "        cleaned_text.append(sent)\n",
        "    return cleaned_text,text_length"
      ],
      "id": "737e3517"
    },
    {
      "cell_type": "code",
      "execution_count": 13,
      "metadata": {
        "colab": {
          "base_uri": "https://localhost:8080/"
        },
        "id": "5d8c0cb2",
        "outputId": "43883434-11fb-400e-e1f5-8b1b38d8d6c4"
      },
      "outputs": [
        {
          "output_type": "stream",
          "name": "stderr",
          "text": [
            "100%|██████████| 185659/185659 [00:15<00:00, 12263.23it/s]\n",
            "100%|██████████| 46415/46415 [00:02<00:00, 16529.11it/s]\n"
          ]
        }
      ],
      "source": [
        "cleaned_train_text,train_text_length=clean_text(train_data.text)\n",
        "cleaned_test_text,test_text_length=clean_text(test_data.text)"
      ],
      "id": "5d8c0cb2"
    },
    {
      "cell_type": "code",
      "execution_count": 14,
      "metadata": {
        "colab": {
          "base_uri": "https://localhost:8080/"
        },
        "id": "975a09bb",
        "outputId": "42c00e4d-03a6-456a-908d-69a6500d1d53"
      },
      "outputs": [
        {
          "output_type": "display_data",
          "data": {
            "text/plain": [
              "<Figure size 864x720 with 1 Axes>"
            ],
            "image/png": "[encoded data removed]"
          },
          "metadata": {
            "needs_background": "light"
          }
        }
      ],
      "source": [
        "plt.figure(figsize=(12,10))\n",
        "sns.distplot(train_text_length)\n",
        "# plt.axis([-10,100,0,0.03])\n",
        "plt.show()"
      ],
      "id": "975a09bb"
    },
    {
      "cell_type": "code",
      "execution_count": 15,
      "metadata": {
        "id": "544b1735"
      },
      "outputs": [],
      "source": [
        "tokenizer=Tokenizer()\n",
        "tokenizer.fit_on_texts(cleaned_train_text)"
      ],
      "id": "544b1735"
    },
    {
      "cell_type": "code",
      "execution_count": 16,
      "metadata": {
        "id": "04ff6e3e"
      },
      "outputs": [],
      "source": [
        "word_freq=pd.DataFrame(tokenizer.word_counts.items(),columns=['word','count']).sort_values(by='count',ascending=False)"
      ],
      "id": "04ff6e3e"
    },
    {
      "cell_type": "code",
      "execution_count": 17,
      "metadata": {
        "colab": {
          "base_uri": "https://localhost:8080/",
          "height": 846
        },
        "id": "09e5bdcb",
        "outputId": "4ee70a17-f5ad-4b85-fcfd-15e76cf17688"
      },
      "outputs": [
        {
          "output_type": "display_data",
          "data": {
            "text/plain": [
              "<Figure size 1080x1440 with 1 Axes>"
            ],
            "image/png": "[encoded data removed]"
          },
          "metadata": {
            "needs_background": "light"
          }
        }
      ],
      "source": [
        "plt.figure(figsize=(15,20))\n",
        "sns.barplot(x='count',y='word',data=word_freq.iloc[:50])\n",
        "plt.show()"
      ],
      "id": "09e5bdcb"
    },
    {
      "cell_type": "code",
      "execution_count": 18,
      "metadata": {
        "id": "331edb6e"
      },
      "outputs": [],
      "source": [
        "train_text_seq=tokenizer.texts_to_sequences(cleaned_train_text)\n",
        "train_text_pad=pad_sequences(train_text_seq,maxlen=40)\n",
        "\n",
        "\n",
        "test_text_seq=tokenizer.texts_to_sequences(cleaned_test_text)\n",
        "test_text_pad=pad_sequences(test_text_seq,maxlen=40)"
      ],
      "id": "331edb6e"
    },
    {
      "cell_type": "code",
      "execution_count": 19,
      "metadata": {
        "id": "84ca66a2"
      },
      "outputs": [],
      "source": [
        "lbl_target=LabelEncoder()\n",
        "train_output=lbl_target.fit_transform(train_data['class'])\n",
        "test_output=lbl_target.transform(test_data['class'])"
      ],
      "id": "84ca66a2"
    },
    {
      "cell_type": "code",
      "execution_count": 20,
      "metadata": {
        "id": "cd41cd47"
      },
      "outputs": [],
      "source": [
        "glove_embedding={}\n",
        "with open('/content/drive/My Drive/TOBIJOSEPH/Tobi/glove.840B.300d.pkl', 'rb') as fp:\n",
        "    glove_embedding = pickle.load(fp)"
      ],
      "id": "cd41cd47"
    },
    {
      "cell_type": "code",
      "execution_count": 21,
      "metadata": {
        "id": "ac8fe60a"
      },
      "outputs": [],
      "source": [
        "v=len(tokenizer.word_index)\n",
        "\n",
        "embedding_matrix=np.zeros((v+1,300), dtype=float)\n",
        "for word,idx in tokenizer.word_index.items():\n",
        "    embedding_vector=glove_embedding.get(word)\n",
        "    if embedding_vector is not None:\n",
        "        embedding_matrix[idx]=embedding_vector"
      ],
      "id": "ac8fe60a"
    },
    {
      "cell_type": "code",
      "execution_count": 22,
      "metadata": {
        "id": "bbfaec54"
      },
      "outputs": [],
      "source": [
        "early_stop=EarlyStopping(patience=5)\n",
        "reducelr=ReduceLROnPlateau(patience=3)"
      ],
      "id": "bbfaec54"
    },
    {
      "cell_type": "markdown",
      "metadata": {
        "id": "us9oo2lqCr3e"
      },
      "source": [
        "# RANDOM FOREST CLASSIFIER"
      ],
      "id": "us9oo2lqCr3e"
    },
    {
      "cell_type": "code",
      "execution_count": 23,
      "metadata": {
        "colab": {
          "base_uri": "https://localhost:8080/"
        },
        "id": "NaXNAPxcfHLi",
        "outputId": "76f00969-8e35-418c-8af1-c36b98889779"
      },
      "outputs": [
        {
          "output_type": "stream",
          "name": "stdout",
          "text": [
            "0.7640202520736831\n"
          ]
        }
      ],
      "source": [
        "from sklearn.ensemble import RandomForestClassifier\n",
        "import sklearn.metrics as metrics\n",
        "\n",
        "rf = RandomForestClassifier(n_estimators=1000 , oob_score = True, n_jobs = -1,\n",
        "                                  random_state =50, max_features = \"auto\",\n",
        "                                  max_leaf_nodes = 30)\n",
        "rf.fit(train_text_pad,train_output)\n",
        "\n",
        "prediction_test = rf.predict(test_text_pad)\n",
        "print(metrics.accuracy_score(test_output, prediction_test))"
      ],
      "id": "NaXNAPxcfHLi"
    },
    {
      "cell_type": "code",
      "execution_count": 24,
      "metadata": {
        "colab": {
          "base_uri": "https://localhost:8080/"
        },
        "id": "sq4QPWjWnjeP",
        "outputId": "8fc28bb7-b496-4c56-9da4-ec387faa44bd"
      },
      "outputs": [
        {
          "output_type": "stream",
          "name": "stdout",
          "text": [
            "0.7640202520736831\n"
          ]
        }
      ],
      "source": [
        "print (metrics.accuracy_score(test_output, prediction_test))"
      ],
      "id": "sq4QPWjWnjeP"
    },
    {
      "cell_type": "markdown",
      "metadata": {
        "id": "hvD3gghHCiea"
      },
      "source": [
        "# **KNN**"
      ],
      "id": "hvD3gghHCiea"
    },
    {
      "cell_type": "code",
      "execution_count": 25,
      "metadata": {
        "id": "JfGy7aEgtREt"
      },
      "outputs": [],
      "source": [
        "from sklearn.neighbors import KNeighborsClassifier\n",
        "import sklearn.metrics as metrics\n",
        "\n",
        "knn = KNeighborsClassifier(n_neighbors=7)\n",
        "knn.fit(train_text_pad,train_output)\n",
        "Y_pred_knn=knn.predict(test_text_pad)"
      ],
      "id": "JfGy7aEgtREt"
    },
    {
      "cell_type": "code",
      "source": [
        "print (metrics.accuracy_score(test_output, Y_pred_knn))"
      ],
      "metadata": {
        "colab": {
          "base_uri": "https://localhost:8080/"
        },
        "id": "RfyXcjSO1HaK",
        "outputId": "cd2ddc33-7d78-4d7c-bfc0-07c294fbd345"
      },
      "id": "RfyXcjSO1HaK",
      "execution_count": 26,
      "outputs": [
        {
          "output_type": "stream",
          "name": "stdout",
          "text": [
            "0.725433588279651\n"
          ]
        }
      ]
    },
    {
      "cell_type": "markdown",
      "metadata": {
        "id": "RLtd6sAICmnR"
      },
      "source": [
        "# LSTM"
      ],
      "id": "RLtd6sAICmnR"
    },
    {
      "cell_type": "code",
      "execution_count": 27,
      "metadata": {
        "id": "a2963097"
      },
      "outputs": [],
      "source": [
        "import tensorflow\n",
        "model=Sequential()\n",
        "model.add(Input(shape=(40,)))\n",
        "model.add(Embedding(v+1,300,weights=[embedding_matrix],trainable=False))\n",
        "model.add(LSTM(20,return_sequences=True))\n",
        "model.add(GlobalMaxPooling1D())\n",
        "#     model.add(Dropout(0.3))\n",
        "model.add(Dense(256,activation='relu'))\n",
        "#     model.add(Dropout(0.2))\n",
        "model.add(Dense(1,activation='sigmoid'))\n",
        "model.compile(optimizer=tensorflow.keras.optimizers.SGD(0.1,momentum=0.09),loss='binary_crossentropy',metrics=['accuracy'])"
      ],
      "id": "a2963097"
    },
    {
      "cell_type": "code",
      "execution_count": 28,
      "metadata": {
        "colab": {
          "base_uri": "https://localhost:8080/"
        },
        "id": "88b023ce",
        "outputId": "69e0487b-ad59-4957-dc37-a132081cb222"
      },
      "outputs": [
        {
          "output_type": "stream",
          "name": "stdout",
          "text": [
            "Epoch 1/5\n",
            "726/726 [==============================] - 59s 77ms/step - loss: 0.3509 - accuracy: 0.8525 - val_loss: 0.2606 - val_accuracy: 0.8951 - lr: 0.1000\n",
            "Epoch 2/5\n",
            "726/726 [==============================] - 59s 81ms/step - loss: 0.2525 - accuracy: 0.8987 - val_loss: 0.2532 - val_accuracy: 0.8982 - lr: 0.1000\n",
            "Epoch 3/5\n",
            "726/726 [==============================] - 57s 79ms/step - loss: 0.2348 - accuracy: 0.9069 - val_loss: 0.2236 - val_accuracy: 0.9117 - lr: 0.1000\n",
            "Epoch 4/5\n",
            "726/726 [==============================] - 57s 79ms/step - loss: 0.2240 - accuracy: 0.9118 - val_loss: 0.2199 - val_accuracy: 0.9136 - lr: 0.1000\n",
            "Epoch 5/5\n",
            "726/726 [==============================] - 58s 79ms/step - loss: 0.2144 - accuracy: 0.9158 - val_loss: 0.2130 - val_accuracy: 0.9162 - lr: 0.1000\n"
          ]
        }
      ],
      "source": [
        "r=model.fit(train_text_pad,train_output,validation_data=(test_text_pad,test_output),\n",
        "            epochs=5,batch_size=256,callbacks=[early_stop,reducelr])\n",
        "pred_lstm = model.predict(test_text_pad)"
      ],
      "id": "88b023ce"
    },
    {
      "cell_type": "code",
      "source": [
        "predictions_test = (model.predict(test_text_pad) > 0.5).astype(\"int32\")\n",
        "print('TESTING DATA CLASSIFICATION REPORT \\n \\n')\n",
        "print(classification_report(test_output,predictions_test,\n",
        "                            target_names=lbl_target.inverse_transform([0,1])))"
      ],
      "metadata": {
        "colab": {
          "base_uri": "https://localhost:8080/"
        },
        "id": "M5ThDMbUAblv",
        "outputId": "2dea900a-afd3-48f7-8290-e1b950553095"
      },
      "id": "M5ThDMbUAblv",
      "execution_count": 30,
      "outputs": [
        {
          "output_type": "stream",
          "name": "stdout",
          "text": [
            "TESTING DATA CLASSIFICATION REPORT \n",
            " \n",
            "\n",
            "              precision    recall  f1-score   support\n",
            "\n",
            " non-suicide       0.91      0.93      0.92     23209\n",
            "     suicide       0.93      0.90      0.92     23206\n",
            "\n",
            "    accuracy                           0.92     46415\n",
            "   macro avg       0.92      0.92      0.92     46415\n",
            "weighted avg       0.92      0.92      0.92     46415\n",
            "\n"
          ]
        }
      ]
    },
    {
      "cell_type": "code",
      "source": [
        "import seaborn as sns\n",
        "\n",
        "cm = tf.math.confusion_matrix(labels=test_output, predictions=predictions_test)\n",
        "\n",
        "plt.figure(figsize=(7,6))\n",
        "sns.heatmap(cm, annot=True, fmt='d')\n",
        "plt.xlabel('Predicted')\n",
        "plt.ylabel('Truth')"
      ],
      "metadata": {
        "colab": {
          "base_uri": "https://localhost:8080/",
          "height": 406
        },
        "id": "EiKNCN0QHDb-",
        "outputId": "eabcf1ca-439e-47de-8f94-2d4ac40239fc"
      },
      "id": "EiKNCN0QHDb-",
      "execution_count": 31,
      "outputs": [
        {
          "output_type": "execute_result",
          "data": {
            "text/plain": [
              "Text(42.0, 0.5, 'Truth')"
            ]
          },
          "metadata": {},
          "execution_count": 31
        },
        {
          "output_type": "display_data",
          "data": {
            "text/plain": [
              "<Figure size 504x432 with 2 Axes>"
            ],
            "image/png": "[encoded data removed]"
          },
          "metadata": {
            "needs_background": "light"
          }
        }
      ]
    },
    {
      "cell_type": "code",
      "source": [
        "from sklearn import metrics\n",
        "fpr, tpr, _ = metrics.roc_curve(test_output,  predictions_test)\n",
        "auc = metrics.roc_auc_score(test_output,  predictions_test)\n",
        "\n",
        "#create ROC curve\n",
        "plt.plot(fpr,tpr,label=\"AUC=\"+str(auc))\n",
        "plt.ylabel('True Positive Rate')\n",
        "plt.xlabel('False Positive Rate')\n",
        "plt.legend(loc=4)\n",
        "plt.show()"
      ],
      "metadata": {
        "colab": {
          "base_uri": "https://localhost:8080/",
          "height": 279
        },
        "id": "2xrPGBdUHKlP",
        "outputId": "b77ed04b-59aa-4578-915f-21f825daa9e3"
      },
      "id": "2xrPGBdUHKlP",
      "execution_count": 32,
      "outputs": [
        {
          "output_type": "display_data",
          "data": {
            "text/plain": [
              "<Figure size 432x288 with 1 Axes>"
            ],
            "image/png": "[encoded data removed]"
          },
          "metadata": {
            "needs_background": "light"
          }
        }
      ]
    },
    {
      "cell_type": "markdown",
      "metadata": {
        "id": "KEGSGgMFKWho"
      },
      "source": [
        "# CLASSIFICATION REPORT RANDOM FOREST"
      ],
      "id": "KEGSGgMFKWho"
    },
    {
      "cell_type": "code",
      "execution_count": 33,
      "metadata": {
        "id": "IU5VPsFwKWEd",
        "colab": {
          "base_uri": "https://localhost:8080/"
        },
        "outputId": "a70bacae-a9f8-436b-ea74-001e6d169f7e"
      },
      "outputs": [
        {
          "output_type": "stream",
          "name": "stdout",
          "text": [
            "              precision    recall  f1-score   support\n",
            "\n",
            "           0       0.76      0.78      0.77     23209\n",
            "           1       0.77      0.75      0.76     23206\n",
            "\n",
            "    accuracy                           0.76     46415\n",
            "   macro avg       0.76      0.76      0.76     46415\n",
            "weighted avg       0.76      0.76      0.76     46415\n",
            "\n"
          ]
        }
      ],
      "source": [
        "from sklearn.metrics import confusion_matrix, classification_report\n",
        "\n",
        "print(classification_report(test_output, prediction_test))"
      ],
      "id": "IU5VPsFwKWEd"
    },
    {
      "cell_type": "code",
      "execution_count": 34,
      "metadata": {
        "id": "EtlF8sFDKSfw",
        "colab": {
          "base_uri": "https://localhost:8080/",
          "height": 408
        },
        "outputId": "a6b5b045-3783-4b81-adc3-02b436e2c275"
      },
      "outputs": [
        {
          "output_type": "execute_result",
          "data": {
            "text/plain": [
              "Text(42.0, 0.5, 'Truth')"
            ]
          },
          "metadata": {},
          "execution_count": 34
        },
        {
          "output_type": "display_data",
          "data": {
            "text/plain": [
              "<Figure size 504x432 with 2 Axes>"
            ],
            "image/png": "[encoded data removed]"
          },
          "metadata": {
            "needs_background": "light"
          }
        }
      ],
      "source": [
        "import seaborn as sns\n",
        "\n",
        "cm = tf.math.confusion_matrix(labels=test_output, predictions=prediction_test)\n",
        "\n",
        "plt.figure(figsize=(7,6))\n",
        "sns.heatmap(cm, annot=True, fmt='d')\n",
        "plt.xlabel('Predicted')\n",
        "plt.ylabel('Truth')"
      ],
      "id": "EtlF8sFDKSfw"
    },
    {
      "cell_type": "code",
      "source": [
        "from sklearn import metrics\n",
        "fpr, tpr, _ = metrics.roc_curve(test_output,  prediction_test)\n",
        "auc = metrics.roc_auc_score(test_output,  prediction_test)\n",
        "\n",
        "#create ROC curve\n",
        "plt.plot(fpr,tpr,label=\"AUC=\"+str(auc))\n",
        "plt.ylabel('True Positive Rate')\n",
        "plt.xlabel('False Positive Rate')\n",
        "plt.legend(loc=4)\n",
        "plt.show()"
      ],
      "metadata": {
        "colab": {
          "base_uri": "https://localhost:8080/",
          "height": 279
        },
        "id": "uILgj5RB1xoB",
        "outputId": "ab379019-b552-4c93-e49a-f63caf068692"
      },
      "id": "uILgj5RB1xoB",
      "execution_count": 35,
      "outputs": [
        {
          "output_type": "display_data",
          "data": {
            "text/plain": [
              "<Figure size 432x288 with 1 Axes>"
            ],
            "image/png": "[encoded data removed]"
          },
          "metadata": {
            "needs_background": "light"
          }
        }
      ]
    },
    {
      "cell_type": "markdown",
      "metadata": {
        "id": "964BFM_hC1tb"
      },
      "source": [
        "# CLASSIFICATION REPORT KNN"
      ],
      "id": "964BFM_hC1tb"
    },
    {
      "cell_type": "code",
      "execution_count": 36,
      "metadata": {
        "id": "83a1OzvY7hxJ",
        "colab": {
          "base_uri": "https://localhost:8080/"
        },
        "outputId": "6fed00a6-e7d6-4a99-821d-f8bcf6763527"
      },
      "outputs": [
        {
          "output_type": "stream",
          "name": "stdout",
          "text": [
            "              precision    recall  f1-score   support\n",
            "\n",
            "           0       0.73      0.71      0.72     23209\n",
            "           1       0.72      0.74      0.73     23206\n",
            "\n",
            "    accuracy                           0.73     46415\n",
            "   macro avg       0.73      0.73      0.73     46415\n",
            "weighted avg       0.73      0.73      0.73     46415\n",
            "\n"
          ]
        }
      ],
      "source": [
        "from sklearn.metrics import confusion_matrix, classification_report\n",
        "\n",
        "print(classification_report(test_output, Y_pred_knn))"
      ],
      "id": "83a1OzvY7hxJ"
    },
    {
      "cell_type": "code",
      "execution_count": 37,
      "metadata": {
        "id": "_1OzfO37wZV1",
        "colab": {
          "base_uri": "https://localhost:8080/",
          "height": 406
        },
        "outputId": "04d7752b-b46f-43da-ec6d-c3c493720e43"
      },
      "outputs": [
        {
          "output_type": "execute_result",
          "data": {
            "text/plain": [
              "Text(42.0, 0.5, 'Truth')"
            ]
          },
          "metadata": {},
          "execution_count": 37
        },
        {
          "output_type": "display_data",
          "data": {
            "text/plain": [
              "<Figure size 504x432 with 2 Axes>"
            ],
            "image/png": "[encoded data removed]"
          },
          "metadata": {
            "needs_background": "light"
          }
        }
      ],
      "source": [
        "import seaborn as sns\n",
        "\n",
        "cm = tf.math.confusion_matrix(labels=test_output, predictions=Y_pred_knn)\n",
        "\n",
        "plt.figure(figsize=(7,6))\n",
        "sns.heatmap(cm, annot=True, fmt='d')\n",
        "plt.xlabel('Predicted')\n",
        "plt.ylabel('Truth')"
      ],
      "id": "_1OzfO37wZV1"
    },
    {
      "cell_type": "code",
      "source": [
        "from sklearn import metrics\n",
        "fpr, tpr, _ = metrics.roc_curve(test_output,  Y_pred_knn)\n",
        "auc = metrics.roc_auc_score(test_output,  Y_pred_knn)\n",
        "\n",
        "#create ROC curve\n",
        "plt.plot(fpr,tpr,label=\"AUC=\"+str(auc))\n",
        "plt.ylabel('True Positive Rate')\n",
        "plt.xlabel('False Positive Rate')\n",
        "plt.legend(loc=4)\n",
        "plt.show()"
      ],
      "metadata": {
        "colab": {
          "base_uri": "https://localhost:8080/",
          "height": 279
        },
        "id": "EarDUTzm7MuX",
        "outputId": "6c201135-9bd3-4928-ef44-08a0bf41e068"
      },
      "id": "EarDUTzm7MuX",
      "execution_count": 38,
      "outputs": [
        {
          "output_type": "display_data",
          "data": {
            "text/plain": [
              "<Figure size 432x288 with 1 Axes>"
            ],
            "image/png": "[encoded data removed]"
          },
          "metadata": {
            "needs_background": "light"
          }
        }
      ]
    },
    {
      "cell_type": "code",
      "execution_count": 40,
      "metadata": {
        "id": "C8M7G9sQuAqY",
        "colab": {
          "base_uri": "https://localhost:8080/"
        },
        "outputId": "19f857bd-1d84-44ad-e4c3-6f78047e8015"
      },
      "outputs": [
        {
          "output_type": "stream",
          "name": "stdout",
          "text": [
            "Accuracy: 0.7804\n",
            "sensitivity: 0.8080\n",
            "specificity: 0.7486\n",
            "precision: 0.7870\n",
            "NPV: 0.7724\n",
            "FPR: 0.2514\n",
            "FDR: 0.2130\n",
            "FNR: 0.1920\n",
            "F1: 0.7974\n"
          ]
        }
      ],
      "source": [
        "TP = 21548\n",
        "TN = 17373\n",
        "FP = 5833\n",
        "FN = 5120\n",
        "accuracy = (TP+TN)/(TP+TN+FP+FN)\n",
        "sensitivity = TP / (TP + FN)\n",
        "specificity = TN / (FP + TN)\n",
        "precision = TP / (TP + FP)\n",
        "NPV = TN / (TN + FN)\n",
        "FDR = FP / (FP + TP)\n",
        "FPR = FP / (FP + TN)\n",
        "FNR = FN / (FN + TP)\n",
        "F1 = TP*2 / ((TP*2) + FP + FN)\n",
        "print('Accuracy: {:.4f}'.format(accuracy))\n",
        "print('sensitivity: {:.4f}'.format(sensitivity))\n",
        "print('specificity: {:.4f}'.format(specificity))\n",
        "print('precision: {:.4f}'.format(precision))\n",
        "print('NPV: {:.4f}'.format(NPV))\n",
        "print('FPR: {:.4f}'.format(FPR))\n",
        "print('FDR: {:.4f}'.format(FDR))\n",
        "print('FNR: {:.4f}'.format(FNR))\n",
        "print('F1: {:.4f}'.format(F1))"
      ],
      "id": "C8M7G9sQuAqY"
    },
    {
      "cell_type": "code",
      "source": [
        ""
      ],
      "metadata": {
        "id": "-KVwmV1f6QRz"
      },
      "id": "-KVwmV1f6QRz",
      "execution_count": null,
      "outputs": []
    }
  ],
  "metadata": {
    "colab": {
      "collapsed_sections": [],
      "name": "depression_detection.ipynb",
      "provenance": []
    },
    "kernelspec": {
      "display_name": "Python 3 (ipykernel)",
      "language": "python",
      "name": "python3"
    },
    "language_info": {
      "codemirror_mode": {
        "name": "ipython",
        "version": 3
      },
      "file_extension": ".py",
      "mimetype": "text/x-python",
      "name": "python",
      "nbconvert_exporter": "python",
      "pygments_lexer": "ipython3",
      "version": "3.9.7"
    },
    "papermill": {
      "default_parameters": {},
      "duration": 347.311322,
      "end_time": "2021-07-13T18:10:23.127920",
      "environment_variables": {},
      "exception": null,
      "input_path": "__notebook__.ipynb",
      "output_path": "__notebook__.ipynb",
      "parameters": {},
      "start_time": "2021-07-13T18:04:35.816598",
      "version": "2.3.3"
    }
  },
  "nbformat": 4,
  "nbformat_minor": 5
}